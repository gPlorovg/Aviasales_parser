{
 "cells": [
  {
   "cell_type": "code",
   "execution_count": 2,
   "id": "aa69b9d5-b8ae-4dd9-bb9c-a45a27e7472c",
   "metadata": {
    "tags": []
   },
   "outputs": [],
   "source": [
    "import csv\n",
    "\n",
    "with open('from.csv', newline='') as csvfile:\n",
    "    data = list(csv.reader(csvfile, delimiter=';'))\n",
    "from_data = [item[0] for item in data]\n",
    "from_data = [from_data[i: i+10] for i in range(0, len(from_data), 10)]\n",
    "with open('to.csv', newline='') as csvfile:\n",
    "    data = list(csv.reader(csvfile, delimiter=';'))\n",
    "to_data = [item[0] for item in data]\n",
    "to_data = [to_data[i: i+10] for i in range(0, len(to_data), 10)]\n"
   ]
  },
  {
   "cell_type": "code",
   "execution_count": 5,
   "id": "0cab9fc4-325d-4e8d-ada6-fa9ac7dffe05",
   "metadata": {
    "tags": []
   },
   "outputs": [
    {
     "name": "stdout",
     "output_type": "stream",
     "text": [
      "['TJM', 'AER', 'TJM', 'NUX', 'UFA', 'AER', 'HMA', 'AER', 'HMA', 'TJM']\n",
      "['AER', 'TJM', 'NUX', 'TJM', 'AER', 'UFA', 'AER', 'HMA', 'TJM', 'HMA']\n"
     ]
    },
    {
     "name": "stderr",
     "output_type": "stream",
     "text": [
      "100%|██████████████████████████████████████████████████████████████████████████████████| 10/10 [13:35<00:00, 81.59s/it]\n"
     ]
    }
   ],
   "source": [
    "import pandas as pd\n",
    "import requests\n",
    "from itertools import product\n",
    "from tqdm import tqdm\n",
    "\n",
    "TOKEN = 'your API token'\n",
    "def get_price(date, fr, to):\n",
    "    date = date.split()[0]\n",
    "    resp = requests.get(f'https://api.travelpayouts.com/aviasales/v3/prices_for_dates?currency=rub&origin={fr}&destination={to}&departure_at={date}&token={TOKEN}')\n",
    "    \n",
    "    if resp.status_code != 200:\n",
    "        print('ПАМАГИТЕ')\n",
    "    \n",
    "    if not resp.json()['data']:\n",
    "        return 0\n",
    "    return resp.json()['data'][0]['price']\n",
    "\n",
    "data = pd.date_range('2023-05-01', '2023-10-31').to_series()\n",
    "\n",
    "n = 12\n",
    "fr_list = from_data[n]\n",
    "to_list = to_data[n]\n",
    "\n",
    "print(fr_list)\n",
    "print(to_list)\n",
    "for i in tqdm(range(len(fr_list))):\n",
    "    res = data.apply(lambda date: get_price(str(date), fr_list[i], to_list[i]))\n",
    "    res.to_csv(f'rezult/{fr_list[i]}-{to_list[i]}.csv', sep=';')\n"
   ]
  },
  {
   "cell_type": "code",
   "execution_count": 19,
   "id": "d511a691-5f50-400b-97e4-0e210034acdf",
   "metadata": {
    "tags": []
   },
   "outputs": [
    {
     "name": "stdout",
     "output_type": "stream",
     "text": [
      "MOW\n",
      "KYZ\n"
     ]
    },
    {
     "ename": "AttributeError",
     "evalue": "'str' object has no attribute 'to_csv'",
     "output_type": "error",
     "traceback": [
      "\u001b[1;31m---------------------------------------------------------------------------\u001b[0m",
      "\u001b[1;31mAttributeError\u001b[0m                            Traceback (most recent call last)",
      "Cell \u001b[1;32mIn[19], line 22\u001b[0m\n\u001b[0;32m     20\u001b[0m df \u001b[38;5;241m=\u001b[39m pd\u001b[38;5;241m.\u001b[39mDataFrame(\u001b[38;5;28mzip\u001b[39m(data_hash\u001b[38;5;241m.\u001b[39mkeys(), average), columns\u001b[38;5;241m=\u001b[39m[\u001b[38;5;124m'\u001b[39m\u001b[38;5;124mMonth i\u001b[39m\u001b[38;5;124m'\u001b[39m, \u001b[38;5;124m'\u001b[39m\u001b[38;5;124mAverage\u001b[39m\u001b[38;5;124m'\u001b[39m])\n\u001b[0;32m     21\u001b[0m df_string \u001b[38;5;241m=\u001b[39m df\u001b[38;5;241m.\u001b[39mto_string(index\u001b[38;5;241m=\u001b[39m\u001b[38;5;28;01mFalse\u001b[39;00m)\n\u001b[1;32m---> 22\u001b[0m \u001b[43mdf_string\u001b[49m\u001b[38;5;241;43m.\u001b[39;49m\u001b[43mto_csv\u001b[49m(\u001b[38;5;124mf\u001b[39m\u001b[38;5;124m'\u001b[39m\u001b[38;5;124maverage_\u001b[39m\u001b[38;5;132;01m{\u001b[39;00mfr_list[j]\u001b[38;5;132;01m}\u001b[39;00m\u001b[38;5;124m-\u001b[39m\u001b[38;5;132;01m{\u001b[39;00mto_list[j]\u001b[38;5;132;01m}\u001b[39;00m\u001b[38;5;124m.csv\u001b[39m\u001b[38;5;124m'\u001b[39m, sep\u001b[38;5;241m=\u001b[39m\u001b[38;5;124m'\u001b[39m\u001b[38;5;124m;\u001b[39m\u001b[38;5;124m'\u001b[39m)\n",
      "\u001b[1;31mAttributeError\u001b[0m: 'str' object has no attribute 'to_csv'"
     ]
    }
   ],
   "source": [
    "import csv\n",
    "\n",
    "n = 2\n",
    "fr_list = from_data[n]\n",
    "to_list = to_data[n]\n",
    "print(fr_list[0])\n",
    "print(to_list[0])\n",
    "for j in range(len(fr_list)):\n",
    "    with open(f'tables/{fr_list[j]}-{to_list[j]}.csv', newline='') as csvfile:\n",
    "        data = list(csv.reader(csvfile, delimiter=';'))\n",
    "    data = data[1:]\n",
    "    data_hash = {}\n",
    "    for i in range(len(data)):\n",
    "        month = data[i][0].split('-')[1]\n",
    "        if month not in data_hash:\n",
    "            data_hash[month] = (int(data[i][1]),1)\n",
    "        else:\n",
    "            data_hash[month] = (data_hash[month][0] + int(data[i][1]), data_hash[month][1] + 1)\n",
    "    average = [data_hash[i][0] // data_hash[i][1] for i in data_hash]   \n",
    "    df = pd.DataFrame(zip(data_hash.keys(), average), columns=['Month i', 'Average'])\n",
    "    df.to_csv(f'average_{fr_list[j]}-{to_list[j]}.csv', sep=';')\n",
    "    "
   ]
  },
  {
   "cell_type": "code",
   "execution_count": null,
   "id": "80c65fcf-61f4-4bc3-ad79-87d0007b1d51",
   "metadata": {},
   "outputs": [],
   "source": []
  }
 ],
 "metadata": {
  "kernelspec": {
   "display_name": "Python 3 (ipykernel)",
   "language": "python",
   "name": "python3"
  },
  "language_info": {
   "codemirror_mode": {
    "name": "ipython",
    "version": 3
   },
   "file_extension": ".py",
   "mimetype": "text/x-python",
   "name": "python",
   "nbconvert_exporter": "python",
   "pygments_lexer": "ipython3",
   "version": "3.11.2"
  }
 },
 "nbformat": 4,
 "nbformat_minor": 5
}
